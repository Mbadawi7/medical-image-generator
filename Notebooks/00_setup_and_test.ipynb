{
 "cells": [
  {
   "cell_type": "code",
   "execution_count": 1,
   "id": "de3f6109-b5fe-44b1-be2b-72cced840312",
   "metadata": {},
   "outputs": [
    {
     "name": "stdout",
     "output_type": "stream",
     "text": [
      "✅ Torch: 2.9.0+cpu\n",
      "✅ MONAI: 1.5.1\n",
      "✅ Albumentations: 1.3.1\n",
      "CUDA available: False\n"
     ]
    }
   ],
   "source": [
    "import torch, monai, albumentations\n",
    "print(\"✅ Torch:\", torch.__version__)\n",
    "print(\"✅ MONAI:\", monai.__version__)\n",
    "print(\"✅ Albumentations:\", albumentations.__version__)\n",
    "print(\"CUDA available:\", torch.cuda.is_available())"
   ]
  },
  {
   "cell_type": "code",
   "execution_count": 1,
   "id": "fde41575-a7ae-4d38-8c1d-1eb0ff7a3305",
   "metadata": {},
   "outputs": [
    {
     "name": "stdout",
     "output_type": "stream",
     "text": [
      "Python  : 3.14.0 (main, Oct 21 2025, 02:09:39) [GCC 14.2.0]\n",
      "OS      : Linux-6.10.14-linuxkit-aarch64-with-glibc2.41\n",
      "Torch   : 2.9.0+cpu\n",
      "CUDA?   : False\n",
      "Device  : cpu\n",
      "Albumentations: 1.3.1\n",
      "OpenCV: 4.12.0\n"
     ]
    }
   ],
   "source": [
    "import os, sys, platform, subprocess\n",
    "print(\"Python  :\", sys.version)\n",
    "print(\"OS      :\", platform.platform())\n",
    "\n",
    "# Torch / CUDA\n",
    "import torch, torchvision\n",
    "print(\"Torch   :\", torch.__version__)\n",
    "print(\"CUDA?   :\", torch.cuda.is_available())\n",
    "print(\"Device  :\", torch.device(\"cuda\" if torch.cuda.is_available() else \"cpu\"))\n",
    "\n",
    "# Albumentations (for augmentations)\n",
    "import albumentations as A\n",
    "import cv2\n",
    "print(\"Albumentations:\", A.__version__)\n",
    "print(\"OpenCV:\", cv2.__version__)"
   ]
  },
  {
   "cell_type": "code",
   "execution_count": null,
   "id": "c9b4f5b2-20f2-483b-83ba-b12c3660d06b",
   "metadata": {},
   "outputs": [],
   "source": []
  }
 ],
 "metadata": {
  "kernelspec": {
   "display_name": "Python 3 (ipykernel)",
   "language": "python",
   "name": "python3"
  },
  "language_info": {
   "codemirror_mode": {
    "name": "ipython",
    "version": 3
   },
   "file_extension": ".py",
   "mimetype": "text/x-python",
   "name": "python",
   "nbconvert_exporter": "python",
   "pygments_lexer": "ipython3",
   "version": "3.14.0"
  }
 },
 "nbformat": 4,
 "nbformat_minor": 5
}
